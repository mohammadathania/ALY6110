{
  "nbformat": 4,
  "nbformat_minor": 0,
  "metadata": {
    "colab": {
      "name": "Individual_Lab_2.ipynb",
      "provenance": [],
      "authorship_tag": "ABX9TyMN8nXNUtrDb+ZyVIv6eYtW",
      "include_colab_link": true
    },
    "kernelspec": {
      "name": "python3",
      "display_name": "Python 3"
    },
    "language_info": {
      "name": "python"
    }
  },
  "cells": [
    {
      "cell_type": "markdown",
      "metadata": {
        "id": "view-in-github",
        "colab_type": "text"
      },
      "source": [
        "<a href=\"https://colab.research.google.com/github/mohammadathania/ALY6110/blob/main/Individual_Lab_2.ipynb\" target=\"_parent\"><img src=\"https://colab.research.google.com/assets/colab-badge.svg\" alt=\"Open In Colab\"/></a>"
      ]
    },
    {
      "cell_type": "code",
      "execution_count": 1,
      "metadata": {
        "id": "Nf0_nXyvUq9u"
      },
      "outputs": [],
      "source": [
        "# innstall java\n",
        "!apt-get install openjdk-8-jdk-headless -qq > /dev/null\n",
        "\n",
        "# install spark (change the version number if needed)\n",
        "!wget -q https://archive.apache.org/dist/spark/spark-3.0.0/spark-3.0.0-bin-hadoop3.2.tgz\n",
        "\n",
        "# unzip the spark file to the current folder\n",
        "!tar xf spark-3.0.0-bin-hadoop3.2.tgz\n",
        "\n",
        "# set your spark folder to your system path environment. \n",
        "import os\n",
        "os.environ[\"JAVA_HOME\"] = \"/usr/lib/jvm/java-8-openjdk-amd64\"\n",
        "os.environ[\"SPARK_HOME\"] = \"/content/spark-3.0.0-bin-hadoop3.2\"\n",
        "\n",
        "\n",
        "# install findspark using pip\n",
        "!pip install -q findspark"
      ]
    },
    {
      "cell_type": "code",
      "source": [
        "import findspark\n",
        "findspark.init()\n",
        "from pyspark.sql import SparkSession \n",
        "spark = SparkSession.builder.master(\"local[*]\").getOrCreate()"
      ],
      "metadata": {
        "id": "3p4XHMQuUykj"
      },
      "execution_count": 2,
      "outputs": []
    },
    {
      "cell_type": "code",
      "source": [
        "df = spark.read.csv(\"BostonHousing.csv\", inferSchema=True, header = True)\n",
        "df.printSchema()"
      ],
      "metadata": {
        "colab": {
          "base_uri": "https://localhost:8080/"
        },
        "id": "CLJfICSHU6SW",
        "outputId": "2ce7c4ee-9207-4716-cfe8-dbdbed84f263"
      },
      "execution_count": 3,
      "outputs": [
        {
          "output_type": "stream",
          "name": "stdout",
          "text": [
            "root\n",
            " |-- crim: double (nullable = true)\n",
            " |-- zn: double (nullable = true)\n",
            " |-- indus: double (nullable = true)\n",
            " |-- chas: integer (nullable = true)\n",
            " |-- nox: double (nullable = true)\n",
            " |-- rm: double (nullable = true)\n",
            " |-- age: double (nullable = true)\n",
            " |-- dis: double (nullable = true)\n",
            " |-- rad: integer (nullable = true)\n",
            " |-- tax: integer (nullable = true)\n",
            " |-- ptratio: double (nullable = true)\n",
            " |-- b: double (nullable = true)\n",
            " |-- lstat: double (nullable = true)\n",
            " |-- medv: double (nullable = true)\n",
            "\n"
          ]
        }
      ]
    },
    {
      "cell_type": "code",
      "source": [
        "from pyspark.ml.feature import VectorAssembler\n",
        "from pyspark.ml.regression import LinearRegression\n",
        "from pyspark.ml.feature import VectorAssembler, StandardScaler, PCA\n",
        "\n",
        "import numpy as np\n",
        "import pandas as pd\n",
        "import matplotlib.pyplot as plt"
      ],
      "metadata": {
        "id": "uvmdKF2pVU7u"
      },
      "execution_count": 4,
      "outputs": []
    },
    {
      "cell_type": "code",
      "source": [
        "only_features = ['crim','zn','indus','chas','nox','rm','age','dis','rad','tax','ptratio','b','lstat']"
      ],
      "metadata": {
        "id": "K48N5B6BVZCU"
      },
      "execution_count": 5,
      "outputs": []
    },
    {
      "cell_type": "code",
      "source": [
        "assembler = VectorAssembler(inputCols=only_features, outputCol= 'features')"
      ],
      "metadata": {
        "id": "IrlzSngQVbfu"
      },
      "execution_count": 6,
      "outputs": []
    },
    {
      "cell_type": "code",
      "source": [
        "feat_df = assembler.transform(df).select('features')\n",
        "feat_df.show(10)"
      ],
      "metadata": {
        "colab": {
          "base_uri": "https://localhost:8080/"
        },
        "id": "CEerj15tVeet",
        "outputId": "2c256c98-e720-45ae-dd79-4afc69dd1414"
      },
      "execution_count": 7,
      "outputs": [
        {
          "output_type": "stream",
          "name": "stdout",
          "text": [
            "+--------------------+\n",
            "|            features|\n",
            "+--------------------+\n",
            "|[0.00632,18.0,2.3...|\n",
            "|[0.02731,0.0,7.07...|\n",
            "|[0.02729,0.0,7.07...|\n",
            "|[0.03237,0.0,2.18...|\n",
            "|[0.06905,0.0,2.18...|\n",
            "|[0.02985,0.0,2.18...|\n",
            "|[0.08829,12.5,7.8...|\n",
            "|[0.14455,12.5,7.8...|\n",
            "|[0.21124,12.5,7.8...|\n",
            "|[0.17004,12.5,7.8...|\n",
            "+--------------------+\n",
            "only showing top 10 rows\n",
            "\n"
          ]
        }
      ]
    },
    {
      "cell_type": "code",
      "source": [
        "#standadize the data \n",
        "\n",
        "scaler = StandardScaler(\n",
        "    inputCol = 'features',\n",
        "    outputCol = 'scaledFeatures',\n",
        "    withMean = True,\n",
        "    withStd = True,\n",
        ").fit(feat_df)\n",
        "\n",
        "#when we transform the dataset feature will still remain in it\n",
        "df_scaled = scaler.transform(feat_df)\n",
        "df_scaled.show(10)"
      ],
      "metadata": {
        "colab": {
          "base_uri": "https://localhost:8080/"
        },
        "id": "lM1sXPBWVls3",
        "outputId": "67377b90-59bd-4376-b514-098617877ea8"
      },
      "execution_count": 8,
      "outputs": [
        {
          "output_type": "stream",
          "name": "stdout",
          "text": [
            "+--------------------+--------------------+\n",
            "|            features|      scaledFeatures|\n",
            "+--------------------+--------------------+\n",
            "|[0.00632,18.0,2.3...|[-0.4193669292132...|\n",
            "|[0.02731,0.0,7.07...|[-0.4169266699640...|\n",
            "|[0.02729,0.0,7.07...|[-0.4169289951277...|\n",
            "|[0.03237,0.0,2.18...|[-0.4163384035610...|\n",
            "|[0.06905,0.0,2.18...|[-0.4120740534296...|\n",
            "|[0.02985,0.0,2.18...|[-0.4166313741807...|\n",
            "|[0.08829,12.5,7.8...|[-0.4098372459997...|\n",
            "|[0.14455,12.5,7.8...|[-0.4032965606564...|\n",
            "|[0.21124,12.5,7.8...|[-0.3955433024705...|\n",
            "|[0.17004,12.5,7.8...|[-0.4003331395864...|\n",
            "+--------------------+--------------------+\n",
            "only showing top 10 rows\n",
            "\n"
          ]
        }
      ]
    },
    {
      "cell_type": "code",
      "source": [
        "#fit PCA model\n",
        "n_components = 2\n",
        "pca = PCA(\n",
        "    k= n_components,\n",
        "    inputCol = 'scaledFeatures',\n",
        "    outputCol = 'pcaFeatures'\n",
        ").fit(df_scaled)\n",
        "\n",
        "df_pca = pca.transform(df_scaled)\n",
        "print(\"explained variance ratio\", pca.explainedVariance.toArray())\n",
        "df_pca.show(10)"
      ],
      "metadata": {
        "colab": {
          "base_uri": "https://localhost:8080/"
        },
        "id": "VFr8i2eXVoYT",
        "outputId": "2b7a6b64-955e-48f0-cb56-51d7cf10b4a2"
      },
      "execution_count": 9,
      "outputs": [
        {
          "output_type": "stream",
          "name": "stdout",
          "text": [
            "explained variance ratio [0.47129606 0.11025193]\n",
            "+--------------------+--------------------+--------------------+\n",
            "|            features|      scaledFeatures|         pcaFeatures|\n",
            "+--------------------+--------------------+--------------------+\n",
            "|[0.00632,18.0,2.3...|[-0.4193669292132...|[2.09622303023858...|\n",
            "|[0.02731,0.0,7.07...|[-0.4169266699640...|[1.45581098944742...|\n",
            "|[0.02729,0.0,7.07...|[-0.4169289951277...|[2.07254655194818...|\n",
            "|[0.03237,0.0,2.18...|[-0.4163384035610...|[2.60892175886434...|\n",
            "|[0.06905,0.0,2.18...|[-0.4120740534296...|[2.45575477193107...|\n",
            "|[0.02985,0.0,2.18...|[-0.4166313741807...|[2.21266184319277...|\n",
            "|[0.08829,12.5,7.8...|[-0.4098372459997...|[1.35753765586535...|\n",
            "|[0.14455,12.5,7.8...|[-0.4032965606564...|[0.84121214171331...|\n",
            "|[0.21124,12.5,7.8...|[-0.3955433024705...|[0.17975039564828...|\n",
            "|[0.17004,12.5,7.8...|[-0.4003331395864...|[1.07312213803569...|\n",
            "+--------------------+--------------------+--------------------+\n",
            "only showing top 10 rows\n",
            "\n"
          ]
        }
      ]
    },
    {
      "cell_type": "code",
      "source": [
        "#collect data in Numpy Array\n",
        "x_pca = df_pca.rdd.map(lambda row: row.pcaFeatures).collect()\n",
        "x_pca = np.array(x_pca)\n",
        "x_pca"
      ],
      "metadata": {
        "colab": {
          "base_uri": "https://localhost:8080/"
        },
        "id": "M4XYCDgpVrO6",
        "outputId": "4f6b797a-3ed9-4de9-dc67-f1ba0e0f0d19"
      },
      "execution_count": 11,
      "outputs": [
        {
          "output_type": "execute_result",
          "data": {
            "text/plain": [
              "array([[2.09622303, 0.77234843],\n",
              "       [1.45581099, 0.59139995],\n",
              "       [2.07254655, 0.59904658],\n",
              "       ...,\n",
              "       [0.31205166, 1.15410433],\n",
              "       [0.27025162, 1.04033206],\n",
              "       [0.12567884, 0.76122473]])"
            ]
          },
          "metadata": {},
          "execution_count": 11
        }
      ]
    },
    {
      "cell_type": "code",
      "source": [
        "#convert array to dataframe \n",
        "df_pca = pd.DataFrame(x_pca, columns= ['PC1','PC2'])\n",
        "df_pca.head()"
      ],
      "metadata": {
        "colab": {
          "base_uri": "https://localhost:8080/",
          "height": 204
        },
        "id": "Hh_U5vLmVvd7",
        "outputId": "7d792e2b-15bf-43bb-af7a-6ed84a374132"
      },
      "execution_count": 12,
      "outputs": [
        {
          "output_type": "execute_result",
          "data": {
            "text/plain": [
              "        PC1       PC2\n",
              "0  2.096223  0.772348\n",
              "1  1.455811  0.591400\n",
              "2  2.072547  0.599047\n",
              "3  2.608922 -0.006864\n",
              "4  2.455755  0.097615"
            ],
            "text/html": [
              "\n",
              "  <div id=\"df-8474e7f3-2fcf-4a91-8368-500e55f491c8\">\n",
              "    <div class=\"colab-df-container\">\n",
              "      <div>\n",
              "<style scoped>\n",
              "    .dataframe tbody tr th:only-of-type {\n",
              "        vertical-align: middle;\n",
              "    }\n",
              "\n",
              "    .dataframe tbody tr th {\n",
              "        vertical-align: top;\n",
              "    }\n",
              "\n",
              "    .dataframe thead th {\n",
              "        text-align: right;\n",
              "    }\n",
              "</style>\n",
              "<table border=\"1\" class=\"dataframe\">\n",
              "  <thead>\n",
              "    <tr style=\"text-align: right;\">\n",
              "      <th></th>\n",
              "      <th>PC1</th>\n",
              "      <th>PC2</th>\n",
              "    </tr>\n",
              "  </thead>\n",
              "  <tbody>\n",
              "    <tr>\n",
              "      <th>0</th>\n",
              "      <td>2.096223</td>\n",
              "      <td>0.772348</td>\n",
              "    </tr>\n",
              "    <tr>\n",
              "      <th>1</th>\n",
              "      <td>1.455811</td>\n",
              "      <td>0.591400</td>\n",
              "    </tr>\n",
              "    <tr>\n",
              "      <th>2</th>\n",
              "      <td>2.072547</td>\n",
              "      <td>0.599047</td>\n",
              "    </tr>\n",
              "    <tr>\n",
              "      <th>3</th>\n",
              "      <td>2.608922</td>\n",
              "      <td>-0.006864</td>\n",
              "    </tr>\n",
              "    <tr>\n",
              "      <th>4</th>\n",
              "      <td>2.455755</td>\n",
              "      <td>0.097615</td>\n",
              "    </tr>\n",
              "  </tbody>\n",
              "</table>\n",
              "</div>\n",
              "      <button class=\"colab-df-convert\" onclick=\"convertToInteractive('df-8474e7f3-2fcf-4a91-8368-500e55f491c8')\"\n",
              "              title=\"Convert this dataframe to an interactive table.\"\n",
              "              style=\"display:none;\">\n",
              "        \n",
              "  <svg xmlns=\"http://www.w3.org/2000/svg\" height=\"24px\"viewBox=\"0 0 24 24\"\n",
              "       width=\"24px\">\n",
              "    <path d=\"M0 0h24v24H0V0z\" fill=\"none\"/>\n",
              "    <path d=\"M18.56 5.44l.94 2.06.94-2.06 2.06-.94-2.06-.94-.94-2.06-.94 2.06-2.06.94zm-11 1L8.5 8.5l.94-2.06 2.06-.94-2.06-.94L8.5 2.5l-.94 2.06-2.06.94zm10 10l.94 2.06.94-2.06 2.06-.94-2.06-.94-.94-2.06-.94 2.06-2.06.94z\"/><path d=\"M17.41 7.96l-1.37-1.37c-.4-.4-.92-.59-1.43-.59-.52 0-1.04.2-1.43.59L10.3 9.45l-7.72 7.72c-.78.78-.78 2.05 0 2.83L4 21.41c.39.39.9.59 1.41.59.51 0 1.02-.2 1.41-.59l7.78-7.78 2.81-2.81c.8-.78.8-2.07 0-2.86zM5.41 20L4 18.59l7.72-7.72 1.47 1.35L5.41 20z\"/>\n",
              "  </svg>\n",
              "      </button>\n",
              "      \n",
              "  <style>\n",
              "    .colab-df-container {\n",
              "      display:flex;\n",
              "      flex-wrap:wrap;\n",
              "      gap: 12px;\n",
              "    }\n",
              "\n",
              "    .colab-df-convert {\n",
              "      background-color: #E8F0FE;\n",
              "      border: none;\n",
              "      border-radius: 50%;\n",
              "      cursor: pointer;\n",
              "      display: none;\n",
              "      fill: #1967D2;\n",
              "      height: 32px;\n",
              "      padding: 0 0 0 0;\n",
              "      width: 32px;\n",
              "    }\n",
              "\n",
              "    .colab-df-convert:hover {\n",
              "      background-color: #E2EBFA;\n",
              "      box-shadow: 0px 1px 2px rgba(60, 64, 67, 0.3), 0px 1px 3px 1px rgba(60, 64, 67, 0.15);\n",
              "      fill: #174EA6;\n",
              "    }\n",
              "\n",
              "    [theme=dark] .colab-df-convert {\n",
              "      background-color: #3B4455;\n",
              "      fill: #D2E3FC;\n",
              "    }\n",
              "\n",
              "    [theme=dark] .colab-df-convert:hover {\n",
              "      background-color: #434B5C;\n",
              "      box-shadow: 0px 1px 3px 1px rgba(0, 0, 0, 0.15);\n",
              "      filter: drop-shadow(0px 1px 2px rgba(0, 0, 0, 0.3));\n",
              "      fill: #FFFFFF;\n",
              "    }\n",
              "  </style>\n",
              "\n",
              "      <script>\n",
              "        const buttonEl =\n",
              "          document.querySelector('#df-8474e7f3-2fcf-4a91-8368-500e55f491c8 button.colab-df-convert');\n",
              "        buttonEl.style.display =\n",
              "          google.colab.kernel.accessAllowed ? 'block' : 'none';\n",
              "\n",
              "        async function convertToInteractive(key) {\n",
              "          const element = document.querySelector('#df-8474e7f3-2fcf-4a91-8368-500e55f491c8');\n",
              "          const dataTable =\n",
              "            await google.colab.kernel.invokeFunction('convertToInteractive',\n",
              "                                                     [key], {});\n",
              "          if (!dataTable) return;\n",
              "\n",
              "          const docLinkHtml = 'Like what you see? Visit the ' +\n",
              "            '<a target=\"_blank\" href=https://colab.research.google.com/notebooks/data_table.ipynb>data table notebook</a>'\n",
              "            + ' to learn more about interactive tables.';\n",
              "          element.innerHTML = '';\n",
              "          dataTable['output_type'] = 'display_data';\n",
              "          await google.colab.output.renderOutput(dataTable, element);\n",
              "          const docLink = document.createElement('div');\n",
              "          docLink.innerHTML = docLinkHtml;\n",
              "          element.appendChild(docLink);\n",
              "        }\n",
              "      </script>\n",
              "    </div>\n",
              "  </div>\n",
              "  "
            ]
          },
          "metadata": {},
          "execution_count": 12
        }
      ]
    },
    {
      "cell_type": "code",
      "source": [
        "#plot two principal components \n",
        "plt.rcParams['figure.figsize'] = 8,6\n",
        "plt.rcParams['font.size']= 12\n",
        "ax1 = df_pca.plot.scatter(x='PC1', y='PC2', c='DarkBlue')"
      ],
      "metadata": {
        "colab": {
          "base_uri": "https://localhost:8080/",
          "height": 394
        },
        "id": "XuhsxM2AVyBo",
        "outputId": "8e047d2c-1b5a-4409-db6e-363a126ea109"
      },
      "execution_count": 13,
      "outputs": [
        {
          "output_type": "display_data",
          "data": {
            "text/plain": [
              "<Figure size 576x432 with 1 Axes>"
            ],
            "image/png": "[encoded data removed]"
          },
          "metadata": {
            "needs_background": "light"
          }
        }
      ]
    },
    {
      "cell_type": "code",
      "source": [
        "\n",
        "#linear regression using Pyspark\n",
        "output = assembler.transform(df)\n",
        "\n",
        "#input vs output \n",
        "finalized_data = output.select(\"features\",\"medv\")\n",
        "\n",
        "finalized_data.show()"
      ],
      "metadata": {
        "colab": {
          "base_uri": "https://localhost:8080/"
        },
        "id": "frXIe-DcV0_1",
        "outputId": "56d7206d-50a5-4d17-bd55-eebe0527e9ec"
      },
      "execution_count": 14,
      "outputs": [
        {
          "output_type": "stream",
          "name": "stdout",
          "text": [
            "+--------------------+----+\n",
            "|            features|medv|\n",
            "+--------------------+----+\n",
            "|[0.00632,18.0,2.3...|24.0|\n",
            "|[0.02731,0.0,7.07...|21.6|\n",
            "|[0.02729,0.0,7.07...|34.7|\n",
            "|[0.03237,0.0,2.18...|33.4|\n",
            "|[0.06905,0.0,2.18...|36.2|\n",
            "|[0.02985,0.0,2.18...|28.7|\n",
            "|[0.08829,12.5,7.8...|22.9|\n",
            "|[0.14455,12.5,7.8...|27.1|\n",
            "|[0.21124,12.5,7.8...|16.5|\n",
            "|[0.17004,12.5,7.8...|18.9|\n",
            "|[0.22489,12.5,7.8...|15.0|\n",
            "|[0.11747,12.5,7.8...|18.9|\n",
            "|[0.09378,12.5,7.8...|21.7|\n",
            "|[0.62976,0.0,8.14...|20.4|\n",
            "|[0.63796,0.0,8.14...|18.2|\n",
            "|[0.62739,0.0,8.14...|19.9|\n",
            "|[1.05393,0.0,8.14...|23.1|\n",
            "|[0.7842,0.0,8.14,...|17.5|\n",
            "|[0.80271,0.0,8.14...|20.2|\n",
            "|[0.7258,0.0,8.14,...|18.2|\n",
            "+--------------------+----+\n",
            "only showing top 20 rows\n",
            "\n"
          ]
        }
      ]
    },
    {
      "cell_type": "code",
      "source": [
        "#split the train and test data\n",
        "train_data,test_data = finalized_data.randomSplit([0.8,0.2])"
      ],
      "metadata": {
        "id": "a8p80-gnV3p9"
      },
      "execution_count": 15,
      "outputs": []
    },
    {
      "cell_type": "code",
      "source": [
        "#train model\n",
        "regressor = LinearRegression(featuresCol= 'features', labelCol= 'medv')\n",
        "\n",
        "regressor = regressor.fit(train_data)"
      ],
      "metadata": {
        "id": "mbKJ2VkBV6O2"
      },
      "execution_count": 16,
      "outputs": []
    },
    {
      "cell_type": "code",
      "source": [
        "#print model cooeff and intercept\n",
        "coeff = regressor.coefficients\n",
        "\n",
        "intr = regressor.intercept\n",
        "\n",
        "print(\"The coeeficient of the model is : %a\" %coeff)\n",
        "print(\"The intercept of the model is : %a\" %intr)"
      ],
      "metadata": {
        "colab": {
          "base_uri": "https://localhost:8080/"
        },
        "id": "xJnjeod-V8Tl",
        "outputId": "88902c10-3ea3-4733-97b9-56ad102f3000"
      },
      "execution_count": 17,
      "outputs": [
        {
          "output_type": "stream",
          "name": "stdout",
          "text": [
            "The coeeficient of the model is : DenseVector([-0.108, 0.0578, 0.0286, 2.5819, -21.9667, 3.3875, 0.0097, -1.7283, 0.361, -0.0133, -1.0018, 0.0092, -0.5885])\n",
            "The intercept of the model is : 43.269540833942514\n"
          ]
        }
      ]
    },
    {
      "cell_type": "code",
      "source": [
        "#evaluate the model\n",
        "pred = regressor.evaluate(test_data)\n",
        "#predict the model\n",
        "pred.predictions.show()"
      ],
      "metadata": {
        "colab": {
          "base_uri": "https://localhost:8080/"
        },
        "id": "uan5Y_A-V_Ex",
        "outputId": "ac22a77f-7c25-47a8-a011-f55afba97524"
      },
      "execution_count": 18,
      "outputs": [
        {
          "output_type": "stream",
          "name": "stdout",
          "text": [
            "+--------------------+----+------------------+\n",
            "|            features|medv|        prediction|\n",
            "+--------------------+----+------------------+\n",
            "|[0.01096,55.0,2.2...|22.0|27.343110834772652|\n",
            "|[0.0187,85.0,4.15...|23.1|25.184253820088422|\n",
            "|[0.02177,82.5,2.0...|42.3| 37.25412772616434|\n",
            "|[0.02729,0.0,7.07...|34.7| 30.42948998456543|\n",
            "|[0.02763,75.0,2.9...|30.8|32.000935277105285|\n",
            "|[0.02899,40.0,1.2...|26.6|21.132615938580265|\n",
            "|[0.03041,0.0,5.19...|18.5| 18.95331118976862|\n",
            "|[0.03049,55.0,3.7...|31.2|28.422307660349766|\n",
            "|[0.03306,0.0,5.19...|20.6| 21.89852332770168|\n",
            "|[0.03445,82.5,2.0...|24.1| 30.01052076002267|\n",
            "|[0.03502,80.0,4.9...|28.5|34.318065446601366|\n",
            "|[0.03548,80.0,3.6...|20.9|21.477904812621155|\n",
            "|[0.03659,25.0,4.8...|24.8| 26.19138212467391|\n",
            "|[0.04011,80.0,1.5...|33.3|   36.421948075988|\n",
            "|[0.04294,28.0,15....|20.6|27.834224202303485|\n",
            "|[0.04337,21.0,5.6...|20.5| 24.00352244688625|\n",
            "|[0.0578,0.0,2.46,...|37.2|33.305169248290895|\n",
            "|[0.06263,0.0,11.9...|22.4|23.348497316734058|\n",
            "|[0.06417,0.0,5.96...|18.9| 24.24145612360433|\n",
            "|[0.06617,0.0,3.24...|19.3|20.821632061467483|\n",
            "+--------------------+----+------------------+\n",
            "only showing top 20 rows\n",
            "\n"
          ]
        }
      ]
    },
    {
      "cell_type": "code",
      "source": [
        "#calaculate the model stats\n",
        "from pyspark.ml.evaluation import RegressionEvaluator\n",
        "eval = RegressionEvaluator(labelCol = \"medv\", predictionCol=\"prediction\", metricName = \"rmse\")"
      ],
      "metadata": {
        "id": "f1W_9ibPWBvh"
      },
      "execution_count": 19,
      "outputs": []
    },
    {
      "cell_type": "code",
      "source": [
        "# root mean square\n",
        "rmse = eval.evaluate(pred.predictions)\n",
        "print(\"Rmse\",rmse)\n",
        "\n",
        "# mean square error\n",
        "mse = eval.evaluate(pred.predictions, {eval.metricName : \"mse\"})\n",
        "print(\"mse\",mse)\n",
        "\n",
        "#Mean absolute error\n",
        "mae = eval.evaluate(pred.predictions, {eval.metricName : \"mae\"})\n",
        "print(\"mae\",mae)\n",
        "\n",
        "#r2\n",
        "r2 = eval.evaluate(pred.predictions, {eval.metricName : \"r2\"})\n",
        "print(\"R2\",r2)"
      ],
      "metadata": {
        "colab": {
          "base_uri": "https://localhost:8080/"
        },
        "id": "NQGRTfiYWD9X",
        "outputId": "8216c6f6-4af8-49d6-c0c3-6744f48c8b39"
      },
      "execution_count": 20,
      "outputs": [
        {
          "output_type": "stream",
          "name": "stdout",
          "text": [
            "Rmse 4.297229298883422\n",
            "mse 18.466179647182106\n",
            "mae 3.338769637044976\n",
            "R2 0.7147901352884587\n"
          ]
        }
      ]
    }
  ]
}